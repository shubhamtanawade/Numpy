{
 "cells": [
  {
   "cell_type": "markdown",
   "id": "50b245d8",
   "metadata": {},
   "source": [
    "# Numpy"
   ]
  },
  {
   "cell_type": "code",
   "execution_count": 1,
   "id": "8c6de3ed",
   "metadata": {
    "ExecuteTime": {
     "end_time": "2022-11-29T04:49:52.427788Z",
     "start_time": "2022-11-29T04:49:52.418802Z"
    }
   },
   "outputs": [],
   "source": [
    "# Importing necessary libary"
   ]
  },
  {
   "cell_type": "code",
   "execution_count": 2,
   "id": "473b4feb",
   "metadata": {
    "ExecuteTime": {
     "end_time": "2022-11-29T04:51:24.600249Z",
     "start_time": "2022-11-29T04:51:18.321304Z"
    }
   },
   "outputs": [
    {
     "name": "stdout",
     "output_type": "stream",
     "text": [
      "Requirement already satisfied: numpy in c:\\users\\amit\\anaconda3\\lib\\site-packages (1.21.5)\n"
     ]
    }
   ],
   "source": [
    "!pip install numpy"
   ]
  },
  {
   "cell_type": "code",
   "execution_count": 3,
   "id": "fcc96bc5",
   "metadata": {
    "ExecuteTime": {
     "end_time": "2022-11-29T04:51:29.538485Z",
     "start_time": "2022-11-29T04:51:29.226167Z"
    }
   },
   "outputs": [],
   "source": [
    "import numpy as np"
   ]
  },
  {
   "cell_type": "code",
   "execution_count": 4,
   "id": "393e4e93",
   "metadata": {
    "ExecuteTime": {
     "end_time": "2022-11-29T04:51:55.137663Z",
     "start_time": "2022-11-29T04:51:55.133660Z"
    }
   },
   "outputs": [],
   "source": [
    "# Array creation"
   ]
  },
  {
   "cell_type": "code",
   "execution_count": 5,
   "id": "22ff3035",
   "metadata": {
    "ExecuteTime": {
     "end_time": "2022-11-29T04:52:19.977010Z",
     "start_time": "2022-11-29T04:52:19.971008Z"
    }
   },
   "outputs": [],
   "source": [
    "a= np.array(10)"
   ]
  },
  {
   "cell_type": "code",
   "execution_count": 6,
   "id": "41413317",
   "metadata": {
    "ExecuteTime": {
     "end_time": "2022-11-29T04:52:56.593903Z",
     "start_time": "2022-11-29T04:52:56.577894Z"
    }
   },
   "outputs": [
    {
     "data": {
      "text/plain": [
       "numpy.ndarray"
      ]
     },
     "execution_count": 6,
     "metadata": {},
     "output_type": "execute_result"
    }
   ],
   "source": [
    "type(a)"
   ]
  },
  {
   "cell_type": "code",
   "execution_count": 8,
   "id": "056fd66f",
   "metadata": {
    "ExecuteTime": {
     "end_time": "2022-11-29T04:55:51.374927Z",
     "start_time": "2022-11-29T04:55:51.365921Z"
    }
   },
   "outputs": [
    {
     "data": {
      "text/plain": [
       "0"
      ]
     },
     "execution_count": 8,
     "metadata": {},
     "output_type": "execute_result"
    }
   ],
   "source": [
    "z=np.array(10)\n",
    "z.ndim"
   ]
  },
  {
   "cell_type": "code",
   "execution_count": 9,
   "id": "b012744a",
   "metadata": {
    "ExecuteTime": {
     "end_time": "2022-11-29T04:56:09.562637Z",
     "start_time": "2022-11-29T04:56:09.556633Z"
    }
   },
   "outputs": [],
   "source": [
    "# one dimension array"
   ]
  },
  {
   "cell_type": "code",
   "execution_count": 10,
   "id": "172b1f30",
   "metadata": {
    "ExecuteTime": {
     "end_time": "2022-11-29T04:56:36.002092Z",
     "start_time": "2022-11-29T04:56:35.995088Z"
    }
   },
   "outputs": [],
   "source": [
    "q=np.array([12,51,68])"
   ]
  },
  {
   "cell_type": "code",
   "execution_count": 11,
   "id": "8f213340",
   "metadata": {
    "ExecuteTime": {
     "end_time": "2022-11-29T04:56:44.505344Z",
     "start_time": "2022-11-29T04:56:44.497338Z"
    }
   },
   "outputs": [
    {
     "data": {
      "text/plain": [
       "1"
      ]
     },
     "execution_count": 11,
     "metadata": {},
     "output_type": "execute_result"
    }
   ],
   "source": [
    "q.ndim"
   ]
  },
  {
   "cell_type": "code",
   "execution_count": 12,
   "id": "0044732e",
   "metadata": {
    "ExecuteTime": {
     "end_time": "2022-11-29T04:57:07.082205Z",
     "start_time": "2022-11-29T04:57:07.077202Z"
    }
   },
   "outputs": [],
   "source": [
    "# two dimensional array"
   ]
  },
  {
   "cell_type": "code",
   "execution_count": 13,
   "id": "b239b19a",
   "metadata": {
    "ExecuteTime": {
     "end_time": "2022-11-29T04:57:30.761922Z",
     "start_time": "2022-11-29T04:57:30.756920Z"
    }
   },
   "outputs": [],
   "source": [
    "e=np.array([[59,35,48,89]])"
   ]
  },
  {
   "cell_type": "code",
   "execution_count": 14,
   "id": "dfafeb7b",
   "metadata": {
    "ExecuteTime": {
     "end_time": "2022-11-29T04:57:39.116614Z",
     "start_time": "2022-11-29T04:57:39.109609Z"
    }
   },
   "outputs": [
    {
     "data": {
      "text/plain": [
       "2"
      ]
     },
     "execution_count": 14,
     "metadata": {},
     "output_type": "execute_result"
    }
   ],
   "source": [
    "e.ndim"
   ]
  },
  {
   "cell_type": "code",
   "execution_count": 20,
   "id": "d3bdf402",
   "metadata": {
    "ExecuteTime": {
     "end_time": "2022-11-29T05:46:32.102825Z",
     "start_time": "2022-11-29T05:46:32.094820Z"
    }
   },
   "outputs": [
    {
     "data": {
      "text/plain": [
       "3"
      ]
     },
     "execution_count": 20,
     "metadata": {},
     "output_type": "execute_result"
    }
   ],
   "source": [
    "# 3 Dimensional Array\n",
    "p=np.array([[[56,35,48,89]]])\n",
    "p.ndim"
   ]
  },
  {
   "cell_type": "code",
   "execution_count": 21,
   "id": "1dd661db",
   "metadata": {
    "ExecuteTime": {
     "end_time": "2022-11-29T05:49:03.350079Z",
     "start_time": "2022-11-29T05:49:03.345074Z"
    }
   },
   "outputs": [],
   "source": [
    "#change data type of teh array element"
   ]
  },
  {
   "cell_type": "code",
   "execution_count": 22,
   "id": "ba83d2bf",
   "metadata": {
    "ExecuteTime": {
     "end_time": "2022-11-29T05:50:16.383965Z",
     "start_time": "2022-11-29T05:50:16.378959Z"
    }
   },
   "outputs": [],
   "source": [
    "a=np.array([15,96,75,28])"
   ]
  },
  {
   "cell_type": "code",
   "execution_count": 23,
   "id": "99661e67",
   "metadata": {
    "ExecuteTime": {
     "end_time": "2022-11-29T05:50:26.365930Z",
     "start_time": "2022-11-29T05:50:26.358927Z"
    }
   },
   "outputs": [
    {
     "data": {
      "text/plain": [
       "dtype('int32')"
      ]
     },
     "execution_count": 23,
     "metadata": {},
     "output_type": "execute_result"
    }
   ],
   "source": [
    "a.dtype"
   ]
  },
  {
   "cell_type": "code",
   "execution_count": 24,
   "id": "64a8c6c5",
   "metadata": {
    "ExecuteTime": {
     "end_time": "2022-11-29T05:51:10.956267Z",
     "start_time": "2022-11-29T05:51:10.889044Z"
    }
   },
   "outputs": [],
   "source": [
    "a=np.array([15,96,75,28],dtype='float')"
   ]
  },
  {
   "cell_type": "code",
   "execution_count": 25,
   "id": "e334c74b",
   "metadata": {
    "ExecuteTime": {
     "end_time": "2022-11-29T05:51:27.679022Z",
     "start_time": "2022-11-29T05:51:27.672018Z"
    }
   },
   "outputs": [
    {
     "name": "stdout",
     "output_type": "stream",
     "text": [
      "float64\n"
     ]
    }
   ],
   "source": [
    "print(a.dtype)"
   ]
  },
  {
   "cell_type": "code",
   "execution_count": 26,
   "id": "8e788443",
   "metadata": {
    "ExecuteTime": {
     "end_time": "2022-11-29T05:51:30.621284Z",
     "start_time": "2022-11-29T05:51:30.555239Z"
    }
   },
   "outputs": [
    {
     "data": {
      "text/plain": [
       "array([15., 96., 75., 28.])"
      ]
     },
     "execution_count": 26,
     "metadata": {},
     "output_type": "execute_result"
    }
   ],
   "source": [
    "a"
   ]
  },
  {
   "cell_type": "markdown",
   "id": "84c676dc",
   "metadata": {},
   "source": [
    "# Other ways of creating array\n",
    "1. arrange\n",
    "2. linspace\n",
    "3. zeros\n",
    "4. ones\n",
    "5. ramdom\n"
   ]
  },
  {
   "cell_type": "code",
   "execution_count": 28,
   "id": "486d034a",
   "metadata": {
    "ExecuteTime": {
     "end_time": "2022-11-29T05:55:47.540250Z",
     "start_time": "2022-11-29T05:55:47.531257Z"
    }
   },
   "outputs": [
    {
     "data": {
      "text/plain": [
       "array([ 1,  4,  7, 10, 13, 16, 19])"
      ]
     },
     "execution_count": 28,
     "metadata": {},
     "output_type": "execute_result"
    }
   ],
   "source": [
    "a=np.arange(1,21,3)\n",
    "a"
   ]
  },
  {
   "cell_type": "code",
   "execution_count": 29,
   "id": "20f05591",
   "metadata": {
    "ExecuteTime": {
     "end_time": "2022-11-29T05:56:52.710679Z",
     "start_time": "2022-11-29T05:56:52.651634Z"
    }
   },
   "outputs": [
    {
     "data": {
      "text/plain": [
       "(array([1.        , 1.28571429, 1.57142857, 1.85714286, 2.14285714,\n",
       "        2.42857143, 2.71428571, 3.        , 3.28571429, 3.57142857,\n",
       "        3.85714286, 4.14285714, 4.42857143, 4.71428571, 5.        ]),\n",
       " 0.2857142857142857)"
      ]
     },
     "execution_count": 29,
     "metadata": {},
     "output_type": "execute_result"
    }
   ],
   "source": [
    "b=np.linspace(1,5,15, retstep=True)\n",
    "b"
   ]
  },
  {
   "cell_type": "code",
   "execution_count": 30,
   "id": "2eef0bc6",
   "metadata": {
    "ExecuteTime": {
     "end_time": "2022-11-29T05:57:23.681553Z",
     "start_time": "2022-11-29T05:57:23.672526Z"
    }
   },
   "outputs": [
    {
     "data": {
      "text/plain": [
       "array([[0., 0.],\n",
       "       [0., 0.]])"
      ]
     },
     "execution_count": 30,
     "metadata": {},
     "output_type": "execute_result"
    }
   ],
   "source": [
    "z=np.zeros([2,2])\n",
    "z"
   ]
  },
  {
   "cell_type": "code",
   "execution_count": 31,
   "id": "0f71c714",
   "metadata": {
    "ExecuteTime": {
     "end_time": "2022-11-29T05:57:58.338970Z",
     "start_time": "2022-11-29T05:57:58.328963Z"
    }
   },
   "outputs": [
    {
     "data": {
      "text/plain": [
       "array([[1., 1., 1., 1., 1.],\n",
       "       [1., 1., 1., 1., 1.],\n",
       "       [1., 1., 1., 1., 1.],\n",
       "       [1., 1., 1., 1., 1.],\n",
       "       [1., 1., 1., 1., 1.]])"
      ]
     },
     "execution_count": 31,
     "metadata": {},
     "output_type": "execute_result"
    }
   ],
   "source": [
    "o=np.ones([5,5])\n",
    "o"
   ]
  },
  {
   "cell_type": "code",
   "execution_count": 33,
   "id": "364b7092",
   "metadata": {
    "ExecuteTime": {
     "end_time": "2022-11-29T06:00:08.907413Z",
     "start_time": "2022-11-29T06:00:08.849819Z"
    }
   },
   "outputs": [
    {
     "data": {
      "text/plain": [
       "array([[0.95869988, 0.88020083, 0.87774854, 0.59433268, 0.72965708],\n",
       "       [0.23810777, 0.08559786, 0.48578632, 0.60303934, 0.64410155],\n",
       "       [0.60938521, 0.18012238, 0.48903702, 0.94622836, 0.47490646],\n",
       "       [0.00432522, 0.98604355, 0.4034992 , 0.07532092, 0.93427232],\n",
       "       [0.54631694, 0.54337092, 0.63270133, 0.73781531, 0.69669115]])"
      ]
     },
     "execution_count": 33,
     "metadata": {},
     "output_type": "execute_result"
    }
   ],
   "source": [
    "r=np.random.rand(5,5)\n",
    "r"
   ]
  },
  {
   "cell_type": "code",
   "execution_count": 35,
   "id": "bf206500",
   "metadata": {
    "ExecuteTime": {
     "end_time": "2022-11-29T06:00:56.385676Z",
     "start_time": "2022-11-29T06:00:56.377672Z"
    }
   },
   "outputs": [
    {
     "data": {
      "text/plain": [
       "array([3, 2, 1, 4, 0, 0, 1, 1, 2, 1])"
      ]
     },
     "execution_count": 35,
     "metadata": {},
     "output_type": "execute_result"
    }
   ],
   "source": [
    "r=np.random.randint(5,size=10)\n",
    "r"
   ]
  },
  {
   "cell_type": "markdown",
   "id": "2004906e",
   "metadata": {},
   "source": [
    "# Slicing and indexing of arrays"
   ]
  },
  {
   "cell_type": "code",
   "execution_count": 36,
   "id": "b031f477",
   "metadata": {
    "ExecuteTime": {
     "end_time": "2022-11-29T06:03:27.531427Z",
     "start_time": "2022-11-29T06:03:27.522421Z"
    }
   },
   "outputs": [
    {
     "data": {
      "text/plain": [
       "array([[1, 2, 3],\n",
       "       [4, 5, 6]])"
      ]
     },
     "execution_count": 36,
     "metadata": {},
     "output_type": "execute_result"
    }
   ],
   "source": [
    "a=np.array([[1,2,3],[4,5,6]])\n",
    "a"
   ]
  },
  {
   "cell_type": "code",
   "execution_count": 37,
   "id": "62339b8f",
   "metadata": {
    "ExecuteTime": {
     "end_time": "2022-11-29T06:03:39.301001Z",
     "start_time": "2022-11-29T06:03:39.293997Z"
    }
   },
   "outputs": [
    {
     "data": {
      "text/plain": [
       "1"
      ]
     },
     "execution_count": 37,
     "metadata": {},
     "output_type": "execute_result"
    }
   ],
   "source": [
    "a[0,0]"
   ]
  },
  {
   "cell_type": "code",
   "execution_count": 38,
   "id": "cfada3eb",
   "metadata": {
    "ExecuteTime": {
     "end_time": "2022-11-29T06:03:48.042025Z",
     "start_time": "2022-11-29T06:03:48.035022Z"
    }
   },
   "outputs": [
    {
     "data": {
      "text/plain": [
       "6"
      ]
     },
     "execution_count": 38,
     "metadata": {},
     "output_type": "execute_result"
    }
   ],
   "source": [
    "a[1,2]"
   ]
  },
  {
   "cell_type": "code",
   "execution_count": 39,
   "id": "60c9589e",
   "metadata": {
    "ExecuteTime": {
     "end_time": "2022-11-29T06:03:51.773430Z",
     "start_time": "2022-11-29T06:03:51.765423Z"
    }
   },
   "outputs": [
    {
     "data": {
      "text/plain": [
       "array([[1, 2, 3],\n",
       "       [4, 5, 6]])"
      ]
     },
     "execution_count": 39,
     "metadata": {},
     "output_type": "execute_result"
    }
   ],
   "source": [
    "a"
   ]
  },
  {
   "cell_type": "code",
   "execution_count": 40,
   "id": "1356f3f5",
   "metadata": {
    "ExecuteTime": {
     "end_time": "2022-11-29T06:04:17.263548Z",
     "start_time": "2022-11-29T06:04:17.254541Z"
    }
   },
   "outputs": [
    {
     "data": {
      "text/plain": [
       "array([2, 3])"
      ]
     },
     "execution_count": 40,
     "metadata": {},
     "output_type": "execute_result"
    }
   ],
   "source": [
    "a[0,1:]"
   ]
  },
  {
   "cell_type": "code",
   "execution_count": 41,
   "id": "82e730e1",
   "metadata": {
    "ExecuteTime": {
     "end_time": "2022-11-29T06:04:33.062810Z",
     "start_time": "2022-11-29T06:04:33.054807Z"
    }
   },
   "outputs": [
    {
     "data": {
      "text/plain": [
       "array([[2, 3],\n",
       "       [5, 6]])"
      ]
     },
     "execution_count": 41,
     "metadata": {},
     "output_type": "execute_result"
    }
   ],
   "source": [
    "a[0:,1:]"
   ]
  },
  {
   "cell_type": "code",
   "execution_count": 42,
   "id": "80d11844",
   "metadata": {
    "ExecuteTime": {
     "end_time": "2022-11-29T06:05:26.504378Z",
     "start_time": "2022-11-29T06:05:26.496373Z"
    }
   },
   "outputs": [
    {
     "data": {
      "text/plain": [
       "array([[1, 2, 3],\n",
       "       [4, 5, 6]])"
      ]
     },
     "execution_count": 42,
     "metadata": {},
     "output_type": "execute_result"
    }
   ],
   "source": [
    "a"
   ]
  },
  {
   "cell_type": "code",
   "execution_count": 43,
   "id": "f790aab2",
   "metadata": {
    "ExecuteTime": {
     "end_time": "2022-11-29T06:06:12.077849Z",
     "start_time": "2022-11-29T06:06:12.072848Z"
    }
   },
   "outputs": [],
   "source": [
    "# exicute 1 & 6"
   ]
  },
  {
   "cell_type": "code",
   "execution_count": 44,
   "id": "ea967ede",
   "metadata": {
    "ExecuteTime": {
     "end_time": "2022-11-29T06:07:02.734669Z",
     "start_time": "2022-11-29T06:07:02.676628Z"
    }
   },
   "outputs": [
    {
     "data": {
      "text/plain": [
       "array([1, 6])"
      ]
     },
     "execution_count": 44,
     "metadata": {},
     "output_type": "execute_result"
    }
   ],
   "source": [
    "a[[0,1],[0,2]]"
   ]
  },
  {
   "cell_type": "code",
   "execution_count": 45,
   "id": "54bd3fc6",
   "metadata": {
    "ExecuteTime": {
     "end_time": "2022-11-29T06:07:39.941394Z",
     "start_time": "2022-11-29T06:07:39.936391Z"
    }
   },
   "outputs": [],
   "source": [
    "# 3&4"
   ]
  },
  {
   "cell_type": "code",
   "execution_count": 50,
   "id": "988dfeb9",
   "metadata": {
    "ExecuteTime": {
     "end_time": "2022-11-29T06:08:58.573287Z",
     "start_time": "2022-11-29T06:08:58.565280Z"
    }
   },
   "outputs": [
    {
     "data": {
      "text/plain": [
       "array([3, 4])"
      ]
     },
     "execution_count": 50,
     "metadata": {},
     "output_type": "execute_result"
    }
   ],
   "source": [
    "a[[0,1],[2,0]]"
   ]
  },
  {
   "cell_type": "markdown",
   "id": "6cd7244a",
   "metadata": {},
   "source": [
    "# Reshaping the arrays"
   ]
  },
  {
   "cell_type": "code",
   "execution_count": 51,
   "id": "3e911508",
   "metadata": {
    "ExecuteTime": {
     "end_time": "2022-11-29T06:09:42.248498Z",
     "start_time": "2022-11-29T06:09:42.239493Z"
    }
   },
   "outputs": [
    {
     "data": {
      "text/plain": [
       "array([[0.82818038, 0.93056573],\n",
       "       [0.03445693, 0.14499911],\n",
       "       [0.58888189, 0.99114504],\n",
       "       [0.29082506, 0.91697237],\n",
       "       [0.02354155, 0.01751962]])"
      ]
     },
     "execution_count": 51,
     "metadata": {},
     "output_type": "execute_result"
    }
   ],
   "source": [
    "a=np.random.rand(5,2)\n",
    "a"
   ]
  },
  {
   "cell_type": "code",
   "execution_count": 52,
   "id": "c65db37b",
   "metadata": {
    "ExecuteTime": {
     "end_time": "2022-11-29T06:09:57.331061Z",
     "start_time": "2022-11-29T06:09:57.323055Z"
    }
   },
   "outputs": [
    {
     "data": {
      "text/plain": [
       "array([[0.82818038, 0.93056573, 0.03445693, 0.14499911, 0.58888189],\n",
       "       [0.99114504, 0.29082506, 0.91697237, 0.02354155, 0.01751962]])"
      ]
     },
     "execution_count": 52,
     "metadata": {},
     "output_type": "execute_result"
    }
   ],
   "source": [
    "a.reshape(2,5)"
   ]
  },
  {
   "cell_type": "code",
   "execution_count": 54,
   "id": "9ca13e37",
   "metadata": {
    "ExecuteTime": {
     "end_time": "2022-11-29T06:10:23.184044Z",
     "start_time": "2022-11-29T06:10:23.176022Z"
    }
   },
   "outputs": [
    {
     "data": {
      "text/plain": [
       "array([[0.82818038, 0.93056573, 0.03445693, 0.14499911, 0.58888189,\n",
       "        0.99114504, 0.29082506, 0.91697237, 0.02354155, 0.01751962]])"
      ]
     },
     "execution_count": 54,
     "metadata": {},
     "output_type": "execute_result"
    }
   ],
   "source": [
    "a.reshape(1,10)"
   ]
  },
  {
   "cell_type": "code",
   "execution_count": 55,
   "id": "07e299d6",
   "metadata": {
    "ExecuteTime": {
     "end_time": "2022-11-29T06:10:59.786977Z",
     "start_time": "2022-11-29T06:10:59.777973Z"
    }
   },
   "outputs": [
    {
     "data": {
      "text/plain": [
       "array([[0.82818038, 0.93056573],\n",
       "       [0.03445693, 0.14499911],\n",
       "       [0.58888189, 0.99114504],\n",
       "       [0.29082506, 0.91697237],\n",
       "       [0.02354155, 0.01751962]])"
      ]
     },
     "execution_count": 55,
     "metadata": {},
     "output_type": "execute_result"
    }
   ],
   "source": [
    "a.reshape(5,2)"
   ]
  },
  {
   "cell_type": "code",
   "execution_count": 56,
   "id": "3389975b",
   "metadata": {
    "ExecuteTime": {
     "end_time": "2022-11-29T06:11:18.533415Z",
     "start_time": "2022-11-29T06:11:18.523405Z"
    }
   },
   "outputs": [
    {
     "data": {
      "text/plain": [
       "array([[0.82818038],\n",
       "       [0.93056573],\n",
       "       [0.03445693],\n",
       "       [0.14499911],\n",
       "       [0.58888189],\n",
       "       [0.99114504],\n",
       "       [0.29082506],\n",
       "       [0.91697237],\n",
       "       [0.02354155],\n",
       "       [0.01751962]])"
      ]
     },
     "execution_count": 56,
     "metadata": {},
     "output_type": "execute_result"
    }
   ],
   "source": [
    "a.reshape(10,1)"
   ]
  },
  {
   "cell_type": "raw",
   "id": "47069f64",
   "metadata": {},
   "source": []
  },
  {
   "cell_type": "code",
   "execution_count": 58,
   "id": "2fd9843c",
   "metadata": {
    "ExecuteTime": {
     "end_time": "2022-11-29T06:15:22.606765Z",
     "start_time": "2022-11-29T06:15:22.597756Z"
    }
   },
   "outputs": [
    {
     "data": {
      "text/plain": [
       "array([[0.82818038, 0.93056573, 0.03445693, 0.14499911, 0.58888189],\n",
       "       [0.99114504, 0.29082506, 0.91697237, 0.02354155, 0.01751962]])"
      ]
     },
     "execution_count": 58,
     "metadata": {},
     "output_type": "execute_result"
    }
   ],
   "source": [
    "a.reshape(-1,5)"
   ]
  },
  {
   "cell_type": "code",
   "execution_count": 57,
   "id": "8b421d6a",
   "metadata": {
    "ExecuteTime": {
     "end_time": "2022-11-29T06:14:19.838397Z",
     "start_time": "2022-11-29T06:14:19.829389Z"
    }
   },
   "outputs": [
    {
     "data": {
      "text/plain": [
       "array([[0.82818038, 0.93056573],\n",
       "       [0.03445693, 0.14499911],\n",
       "       [0.58888189, 0.99114504],\n",
       "       [0.29082506, 0.91697237],\n",
       "       [0.02354155, 0.01751962]])"
      ]
     },
     "execution_count": 57,
     "metadata": {},
     "output_type": "execute_result"
    }
   ],
   "source": [
    "a.reshape(5,-1)"
   ]
  },
  {
   "cell_type": "markdown",
   "id": "30fd4532",
   "metadata": {},
   "source": [
    "# Aggregate Functions"
   ]
  },
  {
   "cell_type": "code",
   "execution_count": 59,
   "id": "6b5d334e",
   "metadata": {
    "ExecuteTime": {
     "end_time": "2022-11-29T06:15:40.750749Z",
     "start_time": "2022-11-29T06:15:40.742746Z"
    }
   },
   "outputs": [
    {
     "data": {
      "text/plain": [
       "0.017519621603516056"
      ]
     },
     "execution_count": 59,
     "metadata": {},
     "output_type": "execute_result"
    }
   ],
   "source": [
    "a.min()"
   ]
  },
  {
   "cell_type": "code",
   "execution_count": 60,
   "id": "eaa1c6e9",
   "metadata": {
    "ExecuteTime": {
     "end_time": "2022-11-29T06:15:49.846172Z",
     "start_time": "2022-11-29T06:15:49.765115Z"
    }
   },
   "outputs": [
    {
     "data": {
      "text/plain": [
       "0.394583819028737"
      ]
     },
     "execution_count": 60,
     "metadata": {},
     "output_type": "execute_result"
    }
   ],
   "source": [
    "a.std()"
   ]
  },
  {
   "cell_type": "code",
   "execution_count": 61,
   "id": "1f9d2f06",
   "metadata": {
    "ExecuteTime": {
     "end_time": "2022-11-29T06:15:55.708537Z",
     "start_time": "2022-11-29T06:15:55.701531Z"
    }
   },
   "outputs": [
    {
     "data": {
      "text/plain": [
       "0.15569639023930307"
      ]
     },
     "execution_count": 61,
     "metadata": {},
     "output_type": "execute_result"
    }
   ],
   "source": [
    "a.var()"
   ]
  },
  {
   "cell_type": "markdown",
   "id": "8acfb34b",
   "metadata": {},
   "source": [
    "# Stacking"
   ]
  },
  {
   "cell_type": "code",
   "execution_count": 62,
   "id": "77b9b388",
   "metadata": {
    "ExecuteTime": {
     "end_time": "2022-11-29T06:17:44.998265Z",
     "start_time": "2022-11-29T06:17:44.990238Z"
    }
   },
   "outputs": [],
   "source": [
    "a=np.array([1,2,3,4,5])\n",
    "b=np.array([4,5,6,7,8])"
   ]
  },
  {
   "cell_type": "code",
   "execution_count": 63,
   "id": "46ec1ee8",
   "metadata": {
    "ExecuteTime": {
     "end_time": "2022-11-29T06:18:07.062229Z",
     "start_time": "2022-11-29T06:18:07.054225Z"
    }
   },
   "outputs": [
    {
     "data": {
      "text/plain": [
       "array([1, 2, 3, 4, 5, 4, 5, 6, 7, 8])"
      ]
     },
     "execution_count": 63,
     "metadata": {},
     "output_type": "execute_result"
    }
   ],
   "source": [
    "np.hstack([a,b])"
   ]
  },
  {
   "cell_type": "code",
   "execution_count": 64,
   "id": "dd6bc8d0",
   "metadata": {
    "ExecuteTime": {
     "end_time": "2022-11-29T06:18:21.250528Z",
     "start_time": "2022-11-29T06:18:21.242524Z"
    }
   },
   "outputs": [
    {
     "data": {
      "text/plain": [
       "array([[1, 2, 3, 4, 5],\n",
       "       [4, 5, 6, 7, 8]])"
      ]
     },
     "execution_count": 64,
     "metadata": {},
     "output_type": "execute_result"
    }
   ],
   "source": [
    "np.vstack([a,b])"
   ]
  },
  {
   "cell_type": "code",
   "execution_count": null,
   "id": "71b5ee5e",
   "metadata": {},
   "outputs": [],
   "source": []
  }
 ],
 "metadata": {
  "kernelspec": {
   "display_name": "Python 3 (ipykernel)",
   "language": "python",
   "name": "python3"
  },
  "language_info": {
   "codemirror_mode": {
    "name": "ipython",
    "version": 3
   },
   "file_extension": ".py",
   "mimetype": "text/x-python",
   "name": "python",
   "nbconvert_exporter": "python",
   "pygments_lexer": "ipython3",
   "version": "3.9.13"
  }
 },
 "nbformat": 4,
 "nbformat_minor": 5
}
